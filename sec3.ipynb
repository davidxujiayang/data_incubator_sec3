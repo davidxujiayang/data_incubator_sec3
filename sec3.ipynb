{
 "cells": [
  {
   "cell_type": "markdown",
   "metadata": {},
   "source": [
    "Import necessary packages"
   ]
  },
  {
   "cell_type": "code",
   "execution_count": 1,
   "metadata": {},
   "outputs": [],
   "source": [
    "import csv\n",
    "import argparse\n",
    "import numpy as np\n",
    "import pandas as pd\n",
    "import matplotlib.pyplot as plt"
   ]
  },
  {
   "cell_type": "markdown",
   "metadata": {},
   "source": [
    "Import data\n",
    "The yelp json files are first converted to csv using the official converter\n",
    "https://github.com/Yelp/dataset-examples/blob/master/json_to_csv_converter.py"
   ]
  },
  {
   "cell_type": "code",
   "execution_count": 2,
   "metadata": {},
   "outputs": [
    {
     "name": "stderr",
     "output_type": "stream",
     "text": [
      "/home/davidxu/.local/lib/python3.6/site-packages/IPython/core/interactiveshell.py:3058: DtypeWarning: Columns (2,12,22) have mixed types. Specify dtype option on import or set low_memory=False.\n",
      "  interactivity=interactivity, compiler=compiler, result=result)\n"
     ]
    }
   ],
   "source": [
    "filename_temperature = 'data/temperature.csv'\n",
    "df_temperature = pd.read_csv(filename_temperature)\n",
    "\n",
    "filename_review = 'data/yelp/review.csv'\n",
    "df_review = pd.read_csv(filename_review)\n",
    "\n",
    "filename_business = 'data/yelp/business.csv' # city, name, categories, business_id, review_count\n",
    "df_business = pd.read_csv(filename_business)"
   ]
  },
  {
   "cell_type": "markdown",
   "metadata": {},
   "source": [
    "Work on Las Vegas in 2017 for demo"
   ]
  },
  {
   "cell_type": "code",
   "execution_count": 3,
   "metadata": {},
   "outputs": [
    {
     "name": "stdout",
     "output_type": "stream",
     "text": [
      "                                 name  \\\n",
      "82250                    Mon Ami Gabi   \n",
      "89206                Bacchanal Buffet   \n",
      "35199                    Wicked Spoon   \n",
      "58852              Hash House A Go Go   \n",
      "141820            Gordon Ramsay BurGR   \n",
      "83950                Earl of Sandwich   \n",
      "174616                     The Buffet   \n",
      "89437   The Cosmopolitan of Las Vegas   \n",
      "29614                    Secret Pizza   \n",
      "1975           The Buffet at Bellagio   \n",
      "\n",
      "                                               categories  \\\n",
      "82250   Food, French, Breakfast & Brunch, Restaurants,...   \n",
      "89206   Restaurants, Buffets, Sandwiches, Food, Breakf...   \n",
      "35199            Buffets, Breakfast & Brunch, Restaurants   \n",
      "58852   Breakfast & Brunch, Food, Restaurants, America...   \n",
      "141820       Restaurants, Burgers, American (Traditional)   \n",
      "83950   Food Delivery Services, Salad, Sandwiches, Sou...   \n",
      "174616  Beauty & Spas, Food, Event Planning & Services...   \n",
      "89437   Casinos, Hotels, Event Planning & Services, Re...   \n",
      "29614                                  Pizza, Restaurants   \n",
      "1975                 American (New), Buffets, Restaurants   \n",
      "\n",
      "                   business_id  review_count  \n",
      "82250   4JNXUYY8wbaaDmk3BPzlWw          8348  \n",
      "89206   RESDUcs7fIiihp38-d6_6g          8339  \n",
      "35199   K7lWdNUhCbcnEvI0NhGewg          6708  \n",
      "58852   f4x1YBxkLrZg652xt2KR5g          5763  \n",
      "141820  cYwJA2A6I12KNkm2rtXd5g          5484  \n",
      "83950   DkYS3arLOhA8si5uUEmHOw          5075  \n",
      "174616  2weQS-RnoOBhb1KsHKyoSQ          4400  \n",
      "89437   5LNZ67Yw9RD6nf4_UhXOjw          4322  \n",
      "29614   iCQpiavjjPzJ5_3gPD5Ebg          4286  \n",
      "1975    ujHiaprwCQ5ewziu0Vi9rw          4227  \n"
     ]
    }
   ],
   "source": [
    "df_temperature['datetime'] = pd.to_datetime(df_temperature['datetime'], infer_datetime_format=True)\n",
    "df_temperature = df_temperature.loc[df_temperature['datetime'].dt.year==2017]\n",
    "df_temperature = df_temperature[['datetime','Las Vegas']]\n",
    "df_temperature['Las Vegas'] = df_temperature['Las Vegas'] - 273.15 # convert to Celsius\n",
    "\n",
    "df_review['date'] = pd.to_datetime(df_review['date'], infer_datetime_format=True)\n",
    "df_review = df_review.loc[df_review['date'].dt.year==2017]\n",
    "\n",
    "df_business = df_business.groupby(df_business['city'].str.lower()).get_group('las vegas')\n",
    "top10_business = df_business.nlargest(10, 'review_count')\n",
    "print(top10_business[['name','categories','business_id','review_count']])"
   ]
  },
  {
   "cell_type": "markdown",
   "metadata": {},
   "source": [
    "From the top 10 restaurants, we choose to compare a sandwich shop and a French restaurant."
   ]
  },
  {
   "cell_type": "code",
   "execution_count": 4,
   "metadata": {},
   "outputs": [],
   "source": [
    "sandwich_id = 'DkYS3arLOhA8si5uUEmHOw'\n",
    "french_id = '4JNXUYY8wbaaDmk3BPzlWw'\n",
    "sandwich_business = df_business.loc[df_business['business_id']==sandwich_id]\n",
    "french_business = df_business.loc[df_business['business_id']==french_id]"
   ]
  },
  {
   "cell_type": "markdown",
   "metadata": {},
   "source": [
    " Create grids of temperature & compute statistics for each temperature range\n",
    " Results are averaged stars of the restaurants at different temperature range, normalized by the averaged stars of all top 10 restaurants in the same temperature ranges"
   ]
  },
  {
   "cell_type": "code",
   "execution_count": 5,
   "metadata": {},
   "outputs": [
    {
     "name": "stdout",
     "output_type": "stream",
     "text": [
      "top10 star w.r.t weather: [3.8594306  3.88228155 3.74967148 3.8611898  3.80645161 3.77975904]\n",
      "sandwich star w.r.t weather: [3.90909091 4.57142857 4.25862069 4.3030303  4.25806452 4.30851064]\n",
      "French star w.r.t weather: [4.20212766 4.24166667 4.05288462 4.16891892 4.07692308 4.22372881]\n",
      "normalized sandwich star w.r.t weather: [1.01286726 1.17751083 1.13573168 1.11443118 1.11864407 1.13989029]\n",
      "normalized French star w.r.t weather: [1.08879472 1.09257059 1.08086392 1.079698   1.07105606 1.11745981]\n"
     ]
    }
   ],
   "source": [
    "x_weather = np.arange(10,40,5)\n",
    "n_review_weather_sandwich = np.zeros(x_weather.shape)\n",
    "star_sum_weather_sandwich = np.zeros(x_weather.shape)\n",
    "n_review_weather_french = np.zeros(x_weather.shape)\n",
    "star_sum_weather_french = np.zeros(x_weather.shape)\n",
    "n_review_weather_top10 = np.zeros(x_weather.shape)\n",
    "star_sum_weather_top10 = np.zeros(x_weather.shape)\n",
    "\n",
    "for ib in range(top10_business.shape[0]):\n",
    "    business = top10_business.iloc[ib]\n",
    "    review = df_review.loc[df_review['business_id'] == business['business_id']]\n",
    "    for i in range(review.shape[0]):\n",
    "        datetime = review.iloc[i]['date']\n",
    "        star = review.iloc[i]['stars']\n",
    "        try:\n",
    "            temp = df_temperature['Las Vegas'].loc[df_temperature['datetime']<=datetime].iloc[-1]\n",
    "        except: \n",
    "            temp = df_temperature['Las Vegas'].loc[df_temperature['datetime']>=datetime].iloc[0]\n",
    "        \n",
    "        if temp >= x_weather[-1]:\n",
    "            j = -1\n",
    "        else:\n",
    "            j = np.argmax(x_weather>temp)\n",
    "\n",
    "        n_review_weather_top10[j]  = n_review_weather_top10[j]+1\n",
    "        star_sum_weather_top10[j]  = star_sum_weather_top10[j]+ star\n",
    "        if business['business_id'] == sandwich_id:\n",
    "            n_review_weather_sandwich[j]  = n_review_weather_sandwich[j]+1\n",
    "            star_sum_weather_sandwich[j]  = star_sum_weather_sandwich[j]+star\n",
    "        elif business['business_id'] == french_id:\n",
    "            n_review_weather_french[j]  = n_review_weather_french[j]+1\n",
    "            star_sum_weather_french[j]  = star_sum_weather_french[j]+star\n",
    "\n",
    "average_star_weather_top10 = star_sum_weather_top10/n_review_weather_top10\n",
    "print(f'top10 star w.r.t weather: {average_star_weather_top10}')\n",
    "average_star_weather_sandwich = star_sum_weather_sandwich/n_review_weather_sandwich\n",
    "print(f'sandwich star w.r.t weather: {average_star_weather_sandwich}')\n",
    "average_star_weather_french = star_sum_weather_french/n_review_weather_french\n",
    "print(f'French star w.r.t weather: {average_star_weather_french}')\n",
    "\n",
    "normalized_star_weather_sandwich = average_star_weather_sandwich/average_star_weather_top10\n",
    "print(f'normalized sandwich star w.r.t weather: {normalized_star_weather_sandwich}')\n",
    "normalized_star_weather_french = average_star_weather_french/average_star_weather_top10\n",
    "print(f'normalized French star w.r.t weather: {normalized_star_weather_french}')"
   ]
  },
  {
   "cell_type": "markdown",
   "metadata": {},
   "source": [
    "Visualize the results"
   ]
  },
  {
   "cell_type": "code",
   "execution_count": 6,
   "metadata": {},
   "outputs": [
    {
     "data": {
      "image/png": "[encoded data removed]",
      "text/plain": [
       "<Figure size 432x288 with 1 Axes>"
      ]
     },
     "metadata": {
      "needs_background": "light"
     },
     "output_type": "display_data"
    }
   ],
   "source": [
    "f, ax = plt.subplots()\n",
    "ax.plot(x_weather, normalized_star_weather_sandwich, label='sandwich')\n",
    "ax.plot(x_weather, normalized_star_weather_french, label='French')\n",
    "ax.set_xlabel('Temperature')\n",
    "ax.set_ylabel('Normalized star')\n",
    "ax.legend()\n",
    "ax.set_xticks(x_weather)\n",
    "ax.set_xticklabels(('<10$^\\circ$C', '10-15$^\\circ$C', '15-20$^\\circ$C', '20-25$^\\circ$C', '25-30$^\\circ$C', '>30$^\\circ$C'))\n",
    "plt.savefig('star_weather', dpi=600)"
   ]
  },
  {
   "cell_type": "markdown",
   "metadata": {},
   "source": [
    "Do the same for time in a day"
   ]
  },
  {
   "cell_type": "code",
   "execution_count": 7,
   "metadata": {},
   "outputs": [
    {
     "name": "stdout",
     "output_type": "stream",
     "text": [
      "top10 star w.r.t time: [3.87620358 3.85682327 3.86666667 3.78737605]\n",
      "sandwich star w.r.t time: [4.03225806 4.72222222 4.5        4.27      ]\n",
      "French star w.r.t time: [4.28205128 4.203125   3.97802198 4.15896739]\n",
      "normalized sandwich star w.r.t time: [1.04025962 1.22438128 1.1637931  1.12742964]\n",
      "normalized French star w.r.t time: [1.10470237 1.08978937 1.02879879 1.09811314]\n"
     ]
    },
    {
     "data": {
      "image/png": "[encoded data removed]",
      "text/plain": [
       "<Figure size 432x288 with 1 Axes>"
      ]
     },
     "metadata": {
      "needs_background": "light"
     },
     "output_type": "display_data"
    }
   ],
   "source": [
    "x_time = np.array([11,14,17,23])\n",
    "n_review_time_sandwich = np.zeros(x_time.shape)\n",
    "star_sum_time_sandwich = np.zeros(x_time.shape)\n",
    "n_review_time_french = np.zeros(x_time.shape)\n",
    "star_sum_time_french = np.zeros(x_time.shape)\n",
    "n_review_time_top10 = np.zeros(x_time.shape)\n",
    "star_sum_time_top10 = np.zeros(x_time.shape)\n",
    "\n",
    "for ib in range(top10_business.shape[0]):\n",
    "    business = top10_business.iloc[ib]\n",
    "    review = df_review.loc[df_review['business_id'] == business['business_id']]\n",
    "    for i in range(review.shape[0]):\n",
    "        datetime = review.iloc[i]['date']\n",
    "        star = review.iloc[i]['stars']\n",
    "        try:\n",
    "            temp = df_temperature['Las Vegas'].loc[df_temperature['datetime']<=datetime].iloc[-1]\n",
    "        except: \n",
    "            temp = df_temperature['Las Vegas'].loc[df_temperature['datetime']>=datetime].iloc[0]\n",
    "        \n",
    "        if temp >= x_time[-1]:\n",
    "            j = -1\n",
    "        else:\n",
    "            j = np.argmax(x_time>temp)\n",
    "\n",
    "        n_review_time_top10[j]  = n_review_time_top10[j]+1\n",
    "        star_sum_time_top10[j]  = star_sum_time_top10[j]+ star\n",
    "        if business['business_id'] == sandwich_id:\n",
    "            n_review_time_sandwich[j]  = n_review_time_sandwich[j]+1\n",
    "            star_sum_time_sandwich[j]  = star_sum_time_sandwich[j]+star\n",
    "        elif business['business_id'] == french_id:\n",
    "            n_review_time_french[j]  = n_review_time_french[j]+1\n",
    "            star_sum_time_french[j]  = star_sum_time_french[j]+star\n",
    "\n",
    "average_star_time_top10 = star_sum_time_top10/n_review_time_top10\n",
    "print(f'top10 star w.r.t time: {average_star_time_top10}')\n",
    "average_star_time_sandwich = star_sum_time_sandwich/n_review_time_sandwich\n",
    "print(f'sandwich star w.r.t time: {average_star_time_sandwich}')\n",
    "average_star_time_french = star_sum_time_french/n_review_time_french\n",
    "print(f'French star w.r.t time: {average_star_time_french}')\n",
    "\n",
    "normalized_star_time_sandwich = average_star_time_sandwich/average_star_time_top10\n",
    "print(f'normalized sandwich star w.r.t time: {normalized_star_time_sandwich}')\n",
    "normalized_star_time_french = average_star_time_french/average_star_time_top10\n",
    "print(f'normalized French star w.r.t time: {normalized_star_time_french}')\n",
    "\n",
    "f, ax = plt.subplots()\n",
    "ax.plot(np.linspace(x_time[0],x_time[1],x_time.size), normalized_star_time_sandwich, label='sandwich')\n",
    "ax.plot(np.linspace(x_time[0],x_time[1],x_time.size), normalized_star_time_french, label='French')\n",
    "ax.set_xlabel('Time in a day')\n",
    "ax.set_ylabel('Normalized star')\n",
    "ax.legend()\n",
    "ax.set_xticks(np.linspace(x_time[0],x_time[1],x_time.size))\n",
    "ax.set_xticklabels(('Morning', 'Noon', 'Afternoon', 'Night'))\n",
    "plt.savefig('star_time', dpi=600)"
   ]
  },
  {
   "cell_type": "markdown",
   "metadata": {},
   "source": [
    "From the results it can be seen that the sandwich place shows a higher relevant popularity under middle-to-cool temperature (10 to 20 degrees Celsius), which is an ideal range to maintain the texture and taste of a sandwich. The stars for this place drops significantly at low temperatures (<10 Celsius degrees), which is likely to due to the fact that many people would choose to carry out the sandwiches and the outdoor temperature makes the meal less enjoyable. For high temperatures (>30 Celsius degrees), the performance raises compared with middle-to-high ranges, which may be attributed to the fact that iced beverages frequently ordered with the sandwiches makes the customers more satisfied under this condition. Time-wise, the sandwich place is more welcomed at noon, which is a time period when people tend to grab a fast food instead of fine dining.  \n",
    "\n",
    "The reviews of the French restaurant is less affected by the weather, which leads to a flat line in the first plot. This is most likely due to the facts that the restaurant provides up-scale dining environment and that most people tend to eat French meal indoor, thus less affected by the weather. Time-wise, the restaurant enjoys high rating at breakfast and dinner time, where as the lunch time rating is relatively lower. This can be due to the fact that the restaurant serves breakfast for both morning and noon periods, and the meal cannot compete with other \"real\" lunches at noon. \n"
   ]
  }
 ],
 "metadata": {
  "kernelspec": {
   "display_name": "Python 3",
   "language": "python",
   "name": "python3"
  },
  "language_info": {
   "codemirror_mode": {
    "name": "ipython",
    "version": 3
   },
   "file_extension": ".py",
   "mimetype": "text/x-python",
   "name": "python",
   "nbconvert_exporter": "python",
   "pygments_lexer": "ipython3",
   "version": "3.6.8"
  }
 },
 "nbformat": 4,
 "nbformat_minor": 2
}
